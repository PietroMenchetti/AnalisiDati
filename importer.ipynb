{
 "cells": [
  {
   "cell_type": "markdown",
   "metadata": {},
   "source": [
    "# Extracting GML Coordinates"
   ]
  },
  {
   "cell_type": "code",
   "execution_count": 48,
   "metadata": {},
   "outputs": [],
   "source": [
    "import requests\n",
    "import xml.etree.ElementTree as ET"
   ]
  },
  {
   "cell_type": "code",
   "execution_count": 49,
   "metadata": {},
   "outputs": [],
   "source": [
    "productID = \"864175b7-759d-4ccc-a878-c97d6aa11275\"\n",
    "r = requests.get(\"http://s5phub.copernicus.eu/dhus/odata/v1/Products(\"+\"'\"+productID+\"'\"+\")\", auth=('s5pguest', 's5pguest'))\n",
    "root = ET.fromstring(r.content)"
   ]
  },
  {
   "cell_type": "code",
   "execution_count": 50,
   "metadata": {},
   "outputs": [],
   "source": [
    "geo = root.find(\"{http://schemas.microsoft.com/ado/2007/08/dataservices/metadata}properties\")"
   ]
  },
  {
   "cell_type": "code",
   "execution_count": 51,
   "metadata": {},
   "outputs": [],
   "source": [
    "properties = {}\n",
    "\n",
    "for child in geo:\n",
    "    if((child.tag[55:] == \"ContentDate\") or (child.tag[55:] == \"Checksum\")):\n",
    "            for subchild in geo.find(child.tag):\n",
    "                if(child.tag[55:] == \"ContentDate\"):\n",
    "                    properties[\"ContentDate_\"+subchild.tag[55:]] = geo.find(child.tag).find(subchild.tag).text\n",
    "                else:\n",
    "                    properties[\"Checksum_\"+subchild.tag[55:]] = geo.find(child.tag).find(subchild.tag).text\n",
    "    else:\n",
    "        if((child.tag[55:] != \"ContentGeometry\")):\n",
    "            properties[child.tag[55:]] = geo.find(child.tag).text"
   ]
  },
  {
   "cell_type": "code",
   "execution_count": 52,
   "metadata": {},
   "outputs": [
    {
     "name": "stdout",
     "output_type": "stream",
     "text": [
      "Id 864175b7-759d-4ccc-a878-c97d6aa11275\n",
      "Name S5P_OFFL_L2__NO2____20181009T213513_20181009T231642_05129_01_010100_20181015T231412\n",
      "ContentType application/octet-stream\n",
      "ContentLength 331745241\n",
      "ChildrenNumber 0\n",
      "Value None\n",
      "CreationDate 2018-10-21T18:17:01.281\n",
      "IngestionDate 2018-10-21T18:16:29.745\n",
      "EvictionDate 2018-10-21T18:17:01.646\n",
      "ContentDate_Start 2018-10-09T21:56:46.000\n",
      "ContentDate_End 2018-10-09T22:55:11.000\n",
      "Checksum_Algorithm MD5\n",
      "Checksum_Value 746366C922CC64A2DD85FB927EE70A70\n"
     ]
    }
   ],
   "source": [
    "for k in properties.keys():\n",
    "    print(str(k)+\" \"+str(properties[k]))"
   ]
  },
  {
   "cell_type": "code",
   "execution_count": 53,
   "metadata": {},
   "outputs": [],
   "source": [
    "ContentGeometry = list(geo)[len(list(geo))-1]"
   ]
  },
  {
   "cell_type": "code",
   "execution_count": 54,
   "metadata": {},
   "outputs": [],
   "source": [
    "gml = ET.fromstring(ContentGeometry.text)"
   ]
  },
  {
   "cell_type": "code",
   "execution_count": 55,
   "metadata": {},
   "outputs": [
    {
     "name": "stdout",
     "output_type": "stream",
     "text": [
      "4326\n"
     ]
    }
   ],
   "source": [
    "EPSG = gml.get('srsName')[40:]\n",
    "print(EPSG)"
   ]
  },
  {
   "cell_type": "code",
   "execution_count": 56,
   "metadata": {},
   "outputs": [
    {
     "name": "stdout",
     "output_type": "stream",
     "text": [
      "Polygon\n"
     ]
    }
   ],
   "source": [
    "TYPE  = gml.tag[28:]\n",
    "print(TYPE)"
   ]
  },
  {
   "cell_type": "code",
   "execution_count": 57,
   "metadata": {},
   "outputs": [],
   "source": [
    "outerBoundaryIs = list(gml)[0]\n",
    "LinearRingin = list(outerBoundaryIs)[0]\n",
    "COORDINATES = list(LinearRingin)[0]"
   ]
  },
  {
   "cell_type": "code",
   "execution_count": 58,
   "metadata": {},
   "outputs": [],
   "source": [
    "preproc = COORDINATES.text.split(\",\")"
   ]
  },
  {
   "cell_type": "code",
   "execution_count": 60,
   "metadata": {},
   "outputs": [
    {
     "data": {
      "text/plain": [
       "266"
      ]
     },
     "execution_count": 60,
     "metadata": {},
     "output_type": "execute_result"
    }
   ],
   "source": [
    "len(preproc)"
   ]
  },
  {
   "cell_type": "code",
   "execution_count": 15,
   "metadata": {},
   "outputs": [],
   "source": [
    "for i in range(len(preproc)):\n",
    "    if(preproc[i] in preproc[i+1:]):\n",
    "        print(\"S\")"
   ]
  },
  {
   "cell_type": "code",
   "execution_count": 16,
   "metadata": {},
   "outputs": [],
   "source": [
    "p = preproc[0:len(preproc)-1]"
   ]
  },
  {
   "cell_type": "code",
   "execution_count": 17,
   "metadata": {},
   "outputs": [],
   "source": [
    "p[0] = preproc[len(preproc)-2]"
   ]
  },
  {
   "cell_type": "code",
   "execution_count": 18,
   "metadata": {},
   "outputs": [],
   "source": [
    "geoJsonCoordinates = []\n",
    "for temp in p:\n",
    "    Lat,Leng = temp.split(' ')\n",
    "    geoJsonCoordinates.append([float(Lat),float(Leng)])"
   ]
  },
  {
   "cell_type": "code",
   "execution_count": 19,
   "metadata": {},
   "outputs": [],
   "source": [
    "import json"
   ]
  },
  {
   "cell_type": "code",
   "execution_count": 20,
   "metadata": {},
   "outputs": [],
   "source": [
    "geometry = {}\n",
    "geometry['type'] = 'Polygon'\n",
    "geometry['coordinates'] = [geoJsonCoordinates]"
   ]
  },
  {
   "cell_type": "code",
   "execution_count": 21,
   "metadata": {},
   "outputs": [],
   "source": [
    "feature = {}\n",
    "feature['type'] = \"Feature\"\n",
    "feature['properties'] = {}\n",
    "feature['geometry'] = geometry"
   ]
  },
  {
   "cell_type": "code",
   "execution_count": 22,
   "metadata": {},
   "outputs": [],
   "source": [
    "FeatureCollection = {}\n",
    "FeatureCollection['type'] = \"FeatureCollection\"\n",
    "FeatureCollection['features'] = [feature]"
   ]
  },
  {
   "cell_type": "code",
   "execution_count": 23,
   "metadata": {},
   "outputs": [],
   "source": [
    "json_data = json.dumps(FeatureCollection)"
   ]
  },
  {
   "cell_type": "code",
   "execution_count": 27,
   "metadata": {},
   "outputs": [
    {
     "data": {
      "text/plain": [
       "'{\"type\": \"FeatureCollection\", \"features\": [{\"type\": \"Feature\", \"properties\": {}, \"geometry\": {\"type\": \"Polygon\", \"coordinates\": [[[104.37874, 66.93215], [104.37874, 67.65671], [109.04739, 68.23474], [113.98591, 68.65444], [119.14787, 68.90659], [124.46878, 68.98494], [129.8712, 68.88757], [135.2687, 68.616875], [140.57614, 68.1795], [145.71619, 67.585], [150.62692, 66.84553], [155.2643, 65.974266], [159.6013, 64.98531], [163.6284, 63.891895], [167.34741, 62.70634], [170.76971, 61.440132], [173.9122, 60.103695], [176.79602, 58.70588], [179.44254, 57.25446], [-178.1269, 55.75615], [-175.89157, 54.217136], [-173.83156, 52.641926], [-171.92982, 51.035313], [-170.16974, 49.400864], [-168.53711, 47.741756], [-167.01912, 46.06094], [-165.60406, 44.360435], [-164.2822, 42.64255], [-163.04431, 40.909245], [-161.88228, 39.16187], [-160.7892, 37.402092], [-159.75845, 35.630833], [-158.78491, 33.849392], [-157.86351, 32.05879], [-156.98932, 30.259676], [-156.15918, 28.452955], [-155.369, 26.639317], [-154.61572, 24.819437], [-153.89664, 22.99377], [-153.20926, 21.162941], [-152.55107, 19.327314], [-151.92024, 17.487392], [-151.31474, 15.643598], [-150.733, 13.796223], [-150.1735, 11.945746], [-149.6347, 10.092343], [-149.11563, 8.236395], [-148.6151, 6.3781643], [-148.13187, 4.517856], [-147.6656, 2.6558409], [-147.21463, 0.79226935], [-146.77887, -1.0726277], [-146.35745, -2.938737], [-145.94992, -4.8056436], [-145.55537, -6.6732864], [-145.1737, -8.541497], [-144.80437, -10.410011], [-144.44696, -12.278827], [-144.10141, -14.147693], [-143.76736, -16.016384], [-143.44443, -17.884893], [-143.13289, -19.752943], [-142.8321, -21.620607], [-142.54262, -23.487564], [-142.26424, -25.35372], [-141.99692, -27.219076], [-141.74112, -29.083452], [-141.49693, -30.946735], [-141.2647, -32.808853], [-141.0447, -34.66968], [-140.83786, -36.529137], [-140.64424, -38.387173], [-140.46516, -40.24362], [-140.301, -42.09849], [-140.1535, -43.951622], [-140.02364, -45.802937], [-139.91289, -47.65241], [-139.82344, -49.49986], [-139.75755, -51.345184], [-139.71722, -53.188274], [-139.70702, -55.02904], [-139.72998, -56.86722], [-139.79175, -58.702675], [-139.89777, -60.535126], [-140.05705, -62.364235], [-140.27754, -64.18966], [-140.57336, -66.01074], [-140.96031, -67.82683], [-141.45999, -69.636925], [-142.10118, -71.43972], [-142.92519, -73.23303], [-143.98756, -75.013916], [-145.37393, -76.77793], [-147.20792, -78.517456], [-149.69043, -80.22024], [-153.14693, -81.86344], [-158.14383, -83.403046], [-165.70201, -84.747505], [-177.61829, -85.71005], [163.7055, -86.00489], [138.70593, -85.49892], [114.9706, -84.40561], [98.35635, -82.99472], [87.875534, -81.42143], [81.16378, -79.76022], [76.66779, -78.04752], [73.52281, -76.3025], [71.24489, -74.5359], [69.549255, -72.75399], [68.26245, -72.39621], [68.0433, -72.42436], [67.763664, -72.865776], [62.5225, -73.26403], [53.638542, -73.296295], [47.989143, -73.17439], [42.972748, -72.99385], [39.41201, -72.737656], [35.984245, -72.48309], [33.3834, -72.16404], [30.734001, -71.86129], [28.619251, -71.51844], [26.546642, -71.485825], [26.363754, -71.126724], [24.484144, -70.672195], [22.39569, -70.22459], [20.584156, -69.63635], [18.488573, -69.03017], [16.592583, -68.18755], [14.294571, -67.256516], [12.098795, -65.83342], [9.242999, -64.02792], [6.2267623, -62.41141], [3.9303844, -62.41141], [3.9303844, -63.602478], [0.5766365, -64.70439], [-3.066019, -65.70548], [-7.0090466, -66.59265], [-11.256783, -67.352684], [-15.800783, -67.97237], [-20.619198, -68.43958], [-25.672325, -68.74431], [-30.903233, -68.87945], [-36.239624, -68.841705], [-41.600147, -68.63226], [-46.90072, -68.25559], [-52.06274, -67.72068], [-57.021133, -67.03797], [-61.725105, -66.220566], [-66.14335, -65.28165], [-70.25986, -64.23443], [-74.07218, -63.091442], [-77.58827, -61.86434], [-80.82323, -60.563435], [-83.79468, -59.19829], [-86.52422, -57.776783], [-89.03278, -56.306087], [-91.34074, -54.79219], [-93.46744, -53.240475], [-95.43101, -51.655613], [-97.24856, -50.04126], [-98.9338, -48.400948], [-100.50057, -46.737484], [-101.96033, -45.053505], [-103.32393, -43.351086], [-104.600494, -41.63226], [-105.79833, -39.898617], [-106.92484, -38.1517], [-107.98674, -36.392754], [-108.98945, -34.623013], [-109.9387, -32.843407], [-110.83864, -31.05476], [-111.693245, -29.258083], [-112.50677, -27.453941], [-113.282074, -25.64306], [-114.02208, -23.826061], [-114.72973, -22.003393], [-115.40717, -20.17562], [-116.056854, -18.343111], [-116.6801, -16.506367], [-117.279236, -14.665749], [-117.8557, -12.821569], [-118.410835, -10.974184], [-118.9461, -9.123948], [-119.46245, -7.2710414], [-119.961105, -5.415828], [-120.44303, -3.5585063], [-120.90911, -1.6993463], [-121.35998, 0.16141467], [-121.79645, 2.0237477], [-122.21919, 3.8872437], [-122.62863, 5.7517347], [-123.025665, 7.6171217], [-123.41041, 9.483175], [-123.783424, 11.34978], [-124.14483, 13.216756], [-124.49507, 15.084008], [-124.83451, 16.951302], [-125.1631, 18.818636], [-125.48113, 20.685713], [-125.78892, 22.552578], [-126.0859, 24.419054], [-126.372635, 26.285059], [-126.648476, 28.150478], [-126.91416, 30.015226], [-127.16847, 31.879202], [-127.41152, 33.742336], [-127.64315, 35.60453], [-127.86283, 37.465763], [-128.06953, 39.325867], [-128.26305, 41.18489], [-128.44238, 43.042675], [-128.60637, 44.89914], [-128.75383, 46.754314], [-128.8831, 48.608047], [-128.9926, 50.46029], [-129.07994, 52.310947], [-129.14255, 54.15997], [-129.17734, 56.007088], [-129.17957, 57.852386], [-129.14577, 59.69559], [-129.06825, 61.536396], [-128.94017, 63.37464], [-128.75119, 65.20993], [-128.48875, 67.04181], [-128.13565, 68.869545], [-127.66855, 70.69227], [-127.057236, 72.50863], [-126.25693, 74.31663], [-125.20316, 76.113365], [-123.79975, 77.894], [-121.89533, 79.65049], [-119.24062, 81.36831], [-115.39967, 83.01929], [-109.559265, 84.542435], [-100.12664, 85.7967], [-84.13072, 86.4819], [-58.63567, 86.26994], [-29.572424, 85.27994], [-8.428566, 83.878296], [4.1486053, 82.285965], [11.691546, 80.59908], [16.494473, 80.2546], [17.241951, 80.2698], [17.724138, 80.42948], [27.535751, 80.16579], [42.007267, 79.7187], [50.478893, 79.16213], [57.445602, 78.68141], [62.096382, 78.15164], [66.37796, 77.70386], [69.52263, 77.203735], [72.65486, 76.769485], [75.11693, 76.3102], [77.508194, 76.267944], [77.71851, 75.815994], [79.87693, 75.272545], [82.27587, 74.760956], [84.36653, 74.11491], [86.807274, 73.47167], [89.04449, 72.6025], [91.79998, 71.66154], [94.478004, 70.23805], [98.012474, 68.42709], [101.770905, 66.93215], [104.37874, 66.93215]]]}}]}'"
      ]
     },
     "execution_count": 27,
     "metadata": {},
     "output_type": "execute_result"
    }
   ],
   "source": [
    "json_data"
   ]
  },
  {
   "cell_type": "code",
   "execution_count": 26,
   "metadata": {},
   "outputs": [],
   "source": [
    "#mod1 = ContentGeometry.text.replace(\"\\n\",\"\")\n",
    "#mod1 = mod1.replace(\"&lt;\",\"<\")\n",
    "#mod1 = mod1.replace(\"&gt;\",\">\")"
   ]
  },
  {
   "cell_type": "markdown",
   "metadata": {},
   "source": [
    "# Downloading nc file"
   ]
  },
  {
   "cell_type": "code",
   "execution_count": 3,
   "metadata": {},
   "outputs": [],
   "source": [
    "f = requests.get(\"http://s5phub.copernicus.eu/dhus/odata/v1/Products(\"+\"'\"+productID+\"'\"+\")/$value\", auth=('s5pguest', 's5pguest'))"
   ]
  },
  {
   "cell_type": "code",
   "execution_count": 4,
   "metadata": {},
   "outputs": [],
   "source": [
    "with open('temp.nc', 'wb') as z:\n",
    "    z.write(f.content)"
   ]
  },
  {
   "cell_type": "code",
   "execution_count": 5,
   "metadata": {},
   "outputs": [],
   "source": [
    "from netCDF4 import Dataset\n",
    "nc=Dataset('temp.nc','r')"
   ]
  },
  {
   "cell_type": "code",
   "execution_count": 10,
   "metadata": {},
   "outputs": [
    {
     "name": "stdout",
     "output_type": "stream",
     "text": [
      "Conventions CF-1.7\n",
      "institution KNMI\n",
      "source Sentinel 5 precursor, TROPOMI, space-borne remote sensing, L2\n",
      "summary TROPOMI/S5P NO2 1-Orbit L2 Swath 7x3.5km\n",
      "tracking_id 95bdb98e-073f-4a32-80e4-d6c53e444108\n",
      "id S5P_OFFL_L2__NO2____20181009T213513_20181009T231642_05129_01_010100_20181015T231412\n",
      "time_reference 2018-10-09T00:00:00Z\n",
      "time_reference_days_since_1950 25118\n",
      "time_reference_julian_day 2458400.5\n",
      "time_reference_seconds_since_1970 1539043200\n",
      "time_coverage_start 2018-10-09T21:56:46Z\n",
      "time_coverage_end 2018-10-09T22:55:11Z\n",
      "time_coverage_duration PT3505.000S\n",
      "time_coverage_resolution PT1.080S\n",
      "orbit 5129\n",
      "references http://www.tropomi.eu/data-products/nitrogen-dioxide\n",
      "processor_version 1.1.0\n",
      "keywords_vocabulary AGU index terms, http://publications.agu.org/author-resource-center/index-terms/\n",
      "keywords 0345 Pollution, Urban and Regional; 0365 Troposphere, Composition and Chemistry; 0368 Troposphere, Constituent Transport and Chemistry; 3360 Remote Sensing; 3363 Stratospheric Dynamics\n",
      "standard_name_vocabulary NetCDF Climate and Forecast Metadata Conventions Standard Name Table (v29, 08 July 2015), http://cfconventions.org/standard-names.html\n",
      "naming_authority nl.knmi\n",
      "cdm_data_type Swath\n",
      "date_created 2018-10-15T23:14:31Z\n",
      "creator_name The Sentinel 5 Precursor TROPOMI Level 2 products are developed with funding from the European Space Agency (ESA), the Netherlands Space Office (NSO), the Belgian Science Policy Office, the German Aerospace Center (DLR) and the Bayerisches Staatsministerium für Wirtschaft und Medien, Energie und Technologie (StMWi).\n",
      "creator_url http://www.tropomi.eu\n",
      "creator_email EOSupport@Copernicus.esa.int\n",
      "project Sentinel 5 precursor/TROPOMI\n",
      "geospatial_lat_min -89.9526\n",
      "geospatial_lat_max 89.95366\n",
      "geospatial_lon_min 179.99898\n",
      "geospatial_lon_max -179.99965\n",
      "license No conditions apply\n",
      "platform S5P\n",
      "sensor TROPOMI\n",
      "spatial_resolution 7x3.5km2\n",
      "cpp_compiler_version g++ (GCC) 4.8.5 20150623 (Red Hat 4.8.5-11)\n",
      "cpp_compiler_flags -g -O2 -fPIC -std=c++11 -W -Wall -Wno-ignored-qualifiers -Wno-write-strings -Wno-unused-variable -DTROPNLL2DP\n",
      "f90_compiler_version GNU Fortran (GCC) 4.8.5 20150623 (Red Hat 4.8.5-11)\n",
      "f90_compiler_flags -gdwarf-3 -O2 -fPIC -cpp -ffpe-trap=invalid -fno-range-check -frecursive -fimplicit-none -ffree-line-length-none -DTROPNLL2DP -Wuninitialized -Wtabs\n",
      "build_date 2018-07-04T06:04:00Z\n",
      "revision_control_identifier df649da886db\n",
      "geolocation_grid_from_band 4\n",
      "identifier_product_doi 10.5270/S5P-s4ljg54\n",
      "identifier_product_doi_authority http://dx.doi.org/\n",
      "algorithm_version 1.0.0\n",
      "title TROPOMI/S5P NO2 1-Orbit L2 Swath 7x3.5km\n",
      "product_version 1.0.0\n",
      "Status_MET_2D Nominal\n",
      "Status_NISE__ Nominal\n",
      "Status_CTMFCT Nominal\n",
      "history 2018-10-16 00:16:51 f_s5pops tropnll2dp /mnt/data1/storage_offl_l2/cache_offl_l2/WORKING-564696236/JobOrder.564696201.xml; 2018-10-21 13:48:44 TM5-MP-DOMINO offline\n",
      "processing_status OFFL-processing nominal product\n",
      "date_modified 2018-10-21T13:48:44Z\n"
     ]
    }
   ],
   "source": [
    "for k in nc.ncattrs():\n",
    "    print(k,nc.getncattr(k))"
   ]
  },
  {
   "cell_type": "code",
   "execution_count": 18,
   "metadata": {},
   "outputs": [],
   "source": [
    "g = dict(nc.groups)"
   ]
  },
  {
   "cell_type": "code",
   "execution_count": 17,
   "metadata": {},
   "outputs": [
    {
     "name": "stdout",
     "output_type": "stream",
     "text": [
      "scanline\n",
      "ground_pixel\n",
      "time\n",
      "corner\n",
      "polynomial_exponents\n",
      "intensity_offset_polynomial_exponents\n",
      "layer\n",
      "vertices\n",
      "latitude\n",
      "longitude\n",
      "delta_time\n",
      "time_utc\n",
      "qa_value\n",
      "nitrogendioxide_tropospheric_column\n",
      "nitrogendioxide_tropospheric_column_precision\n",
      "nitrogendioxide_tropospheric_column_precision_kernel\n",
      "averaging_kernel\n",
      "air_mass_factor_troposphere\n",
      "air_mass_factor_total\n",
      "tm5_tropopause_layer_index\n",
      "tm5_constant_a\n",
      "tm5_constant_b\n"
     ]
    }
   ],
   "source": [
    "for v in g['PRODUCT'].variables:\n",
    "    print(v)"
   ]
  },
  {
   "cell_type": "code",
   "execution_count": 19,
   "metadata": {},
   "outputs": [
    {
     "data": {
      "text/plain": [
       "odict_keys(['scanline', 'ground_pixel', 'time', 'corner', 'polynomial_exponents', 'intensity_offset_polynomial_exponents', 'layer', 'vertices', 'latitude', 'longitude', 'delta_time', 'time_utc', 'qa_value', 'nitrogendioxide_tropospheric_column', 'nitrogendioxide_tropospheric_column_precision', 'nitrogendioxide_tropospheric_column_precision_kernel', 'averaging_kernel', 'air_mass_factor_troposphere', 'air_mass_factor_total', 'tm5_tropopause_layer_index', 'tm5_constant_a', 'tm5_constant_b'])"
      ]
     },
     "execution_count": 19,
     "metadata": {},
     "output_type": "execute_result"
    }
   ],
   "source": [
    "ncv = g['PRODUCT'].variables\n",
    "ncv.keys()"
   ]
  },
  {
   "cell_type": "code",
   "execution_count": 45,
   "metadata": {},
   "outputs": [
    {
     "data": {
      "text/plain": [
       "3246"
      ]
     },
     "execution_count": 45,
     "metadata": {},
     "output_type": "execute_result"
    }
   ],
   "source": [
    "len(ncv['longitude'][0].data)"
   ]
  },
  {
   "cell_type": "code",
   "execution_count": 46,
   "metadata": {},
   "outputs": [
    {
     "data": {
      "text/plain": [
       "3246"
      ]
     },
     "execution_count": 46,
     "metadata": {},
     "output_type": "execute_result"
    }
   ],
   "source": [
    "len(ncv['latitude'][0].data)"
   ]
  },
  {
   "cell_type": "code",
   "execution_count": 20,
   "metadata": {},
   "outputs": [],
   "source": [
    "lon = ncv['longitude'][10:-10:2,20:-10:2]\n",
    "lat = ncv['latitude'][10:-10:2,20:-10:2]"
   ]
  },
  {
   "cell_type": "code",
   "execution_count": 21,
   "metadata": {},
   "outputs": [],
   "source": [
    "# read the 1st time step\n",
    "itime = 0\n",
    "nitrogendioxide = ncv['nitrogendioxide_tropospheric_column'][itime,10:-10:2,20:-10:2]"
   ]
  }
 ],
 "metadata": {
  "kernelspec": {
   "display_name": "Python 3",
   "language": "python",
   "name": "python3"
  },
  "language_info": {
   "codemirror_mode": {
    "name": "ipython",
    "version": 3
   },
   "file_extension": ".py",
   "mimetype": "text/x-python",
   "name": "python",
   "nbconvert_exporter": "python",
   "pygments_lexer": "ipython3",
   "version": "3.6.6"
  }
 },
 "nbformat": 4,
 "nbformat_minor": 2
}
